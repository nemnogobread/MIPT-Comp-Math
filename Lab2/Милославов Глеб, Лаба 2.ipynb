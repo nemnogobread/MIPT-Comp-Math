{
 "cells": [
  {
   "cell_type": "markdown",
   "metadata": {},
   "source": [
    "## Часть 1. Пример проблемы использования метода Гаусса для решения СЛАУ\n",
    "\n",
    "Перед вами простая реализация метода Гаусса для решения СЛАУ. Далее по коду представлены две СЛАУ $A_1x = b_1$ и $A_2x = b_2$, эквивалентные с точностью до перестановки строк. Эти СЛАУ решаются сначала пакетным методом, затем реализованным методом Гаусса. Для пакетного метода получается два одинаковых решения. Для метода Гаусса - два отличающихся решения. ЗАДАНИЕ: необходимо объяснить, почему для представленного метода Гаусса решения различаются."
   ]
  },
  {
   "cell_type": "code",
   "execution_count": 1,
   "metadata": {},
   "outputs": [],
   "source": [
    "import numpy as np\n",
    "import numpy.linalg as la\n",
    "import copy \n",
    "\n",
    "def gauss( A_in, b_in ):\n",
    "    n = b_in.size\n",
    "    A = copy.deepcopy(A_in)\n",
    "    b = copy.deepcopy(b_in)\n",
    "    for k in range(0,n-1):\n",
    "        for i in range(k+1,n):\n",
    "            if A[i,k]!=0:\n",
    "                c = A[i,k]/A[k,k]\n",
    "                A[i,k+1:n] = A[i,k+1:n] - c*A[k,k+1:n]\n",
    "                b[i] = b[i] - c*b[k]\n",
    "                \n",
    "    # обратный ход\n",
    "    for k in range(n-1,-1,-1):\n",
    "        b[k] = (b[k] - np.dot(A[k,k+1:n],b[k+1:n]))/A[k,k]\n",
    "    return b"
   ]
  },
  {
   "cell_type": "code",
   "execution_count": 2,
   "metadata": {},
   "outputs": [
    {
     "name": "stdout",
     "output_type": "stream",
     "text": [
      "mu1 =  16.393731622284385\n",
      "mu2 =  16.393731622284392\n"
     ]
    }
   ],
   "source": [
    "A1 = np.array([[1e-16, 1., -1.], [-1., 2., -1.], [2., -1., 0.]])\n",
    "b1 = np.array([0., 0., 1.])\n",
    "\n",
    "A2 = np.array([[2., -1., 0.], [-1., 2., -1.], [1e-16, 1., -1.]])\n",
    "b2 = np.array([1., 0., 0.])\n",
    "\n",
    "print('mu1 = ', la.cond(A1))\n",
    "print('mu2 = ', la.cond(A2))"
   ]
  },
  {
   "cell_type": "code",
   "execution_count": 3,
   "metadata": {},
   "outputs": [
    {
     "name": "stdout",
     "output_type": "stream",
     "text": [
      "u1 =  [1. 1. 1.]\n",
      "u2 =  [1. 1. 1.]\n"
     ]
    }
   ],
   "source": [
    "print('u1 = ', la.solve(A1, b1))\n",
    "print('u2 = ',la.solve(A2, b2))"
   ]
  },
  {
   "cell_type": "code",
   "execution_count": 4,
   "metadata": {
    "scrolled": true
   },
   "outputs": [
    {
     "name": "stdout",
     "output_type": "stream",
     "text": [
      "u1 =  [0.55511151 0.25       0.25      ]\n",
      "u2 =  [1. 1. 1.]\n"
     ]
    }
   ],
   "source": [
    "print('u1 = ', gauss(A1, b1))\n",
    "print('u2 = ', gauss(A2, b2))"
   ]
  },
  {
   "attachments": {
    "image.png": {
     "image/png": "[encoded data removed]"
    }
   },
   "cell_type": "markdown",
   "metadata": {},
   "source": [
    "Основное накопление погрешностей решения в методе Гаусса происходит на этапе приведения системы к треугольному виду. А именно: с каждой новой итерацией погрешности вычислений накапливаются, что может привести к неожиданным результатам. Поэтому важно, чтобы на каждом шаге погрешность вычислений была минимальна, и этого можно достичь с помощью выбора главного (ведущего) элемента. В приведённом выше алгоритме это не учтено, поэтому после исключения $x_1$ из уравнений $2$ и $3$ получилось, что они линейно зависимы (см. рис, элементы $A_{22}$, $A_{23}$, $A_{32}$, $A_{33}$), что привело к результату, сильно отличаещимуся от ожидаемого.![image.png](attachment:image.png)"
   ]
  },
  {
   "cell_type": "markdown",
   "metadata": {},
   "source": [
    "## Часть 2. LU разложение"
   ]
  },
  {
   "cell_type": "markdown",
   "metadata": {},
   "source": [
    "Задание: \n",
    "\n",
    "реализовать алгоритм решения предыдущей задачи с матрицей A2 с помощью LU-разложение В решении должна выводиться L, U и собственно решение системы. \n",
    "\n",
    "ВАЖНО: реализация метода LU должна быть получена путем небольшой модификации метода gauss!  При это саму реализацию можно разделить на два метода: один метод собственно находит LU разложение (можно сделать переделкой цикла для матрицы A метода gauss), второй метод - непосредственное решение системы с помощью прямого и обратного хода. Ни в каком виде нельзя пользоваться пакетными методами (в частности, la.solve)"
   ]
  },
  {
   "cell_type": "code",
   "execution_count": 30,
   "metadata": {},
   "outputs": [
    {
     "name": "stdout",
     "output_type": "stream",
     "text": [
      "[[ 1.          0.          0.        ]\n",
      " [-0.5         1.          0.        ]\n",
      " [ 0.          0.66666667  1.        ]] \n",
      "\n",
      "[[ 2.         -1.          0.        ]\n",
      " [ 0.          1.5        -1.        ]\n",
      " [ 0.          0.         -0.33333333]] \n",
      "\n",
      "u =  [1. 1. 1.]\n"
     ]
    }
   ],
   "source": [
    "import numpy as np\n",
    "import numpy.linalg as la\n",
    "import copy \n",
    "\n",
    "def A_to_LU(a):\n",
    "    n = a.shape[0]\n",
    "    LU_matrix = np.matrix(np.zeros([n, n]))\n",
    "\n",
    "    for k in range(n):\n",
    "\n",
    "        for j in range(k, n):\n",
    "            LU_matrix[k, j] = a[k, j] - LU_matrix[k, :k] * LU_matrix[:k, j]\n",
    "\n",
    "        for i in range(k + 1, n):\n",
    "            LU_matrix[i, k] = (a[i, k] - LU_matrix[i, :k] * LU_matrix[:k, k]) / LU_matrix[k, k]\n",
    "\n",
    "    return LU_matrix\n",
    "\n",
    "def LU_to_L(LU_matrix):\n",
    "    L = LU_matrix.copy()\n",
    "    for i in range(L.shape[0]):\n",
    "            L[i, i] = 1\n",
    "            L[i, i+1:] = 0\n",
    "    return L\n",
    "\n",
    "def LU_to_U(LU_matrix):\n",
    "    U = LU_matrix.copy()\n",
    "    for i in range(1, U.shape[0]):\n",
    "            U[i, :i] = 0\n",
    "    return U\n",
    "\n",
    "def gauss( A_in, b_in ):\n",
    "    n = b_in.size\n",
    "    A = copy.deepcopy(A_in)\n",
    "    b = copy.deepcopy(b_in)\n",
    "    for k in range(0,n-1):\n",
    "        for i in range(k+1,n):\n",
    "            if A[i,k]!=0:\n",
    "                c = A[i,k]/A[k,k]\n",
    "                A[i,k+1:n] = A[i,k+1:n] - c*A[k,k+1:n]\n",
    "                b[i] = b[i] - c*b[k]\n",
    "                \n",
    "    # обратный ход\n",
    "    for k in range(n-1,-1,-1):\n",
    "        b[k] = (b[k] - np.dot(A[k,k+1:n],b[k+1:n]))/A[k,k]\n",
    "    return b\n",
    "\n",
    "\n",
    "if __name__ == \"__main__\":\n",
    "    A = np.array([[2., -1., 0.], [-1., 2., -1.], [0, 1., -1.]])\n",
    "    b = np.array([1., 0., 0.])\n",
    "\n",
    "    LU_matrix = A_to_LU(A)\n",
    "    \n",
    "    L = LU_to_L(LU_matrix)\n",
    "    U = LU_to_U(LU_matrix)\n",
    "    print(L, \"\\n\")\n",
    "    print(U, \"\\n\")\n",
    "\n",
    "    v = gauss(L, b)\n",
    "    u = gauss(U, v)\n",
    "    print (\"u = \", u)\n"
   ]
  },
  {
   "cell_type": "markdown",
   "metadata": {
    "collapsed": true
   },
   "source": [
    "### LU - разложение с помощью пакета sympy"
   ]
  },
  {
   "cell_type": "markdown",
   "metadata": {},
   "source": [
    "Чтобы убедиться, что разложение получено верно, можно воспользоваться скриптом ниже"
   ]
  },
  {
   "cell_type": "code",
   "execution_count": 5,
   "metadata": {},
   "outputs": [
    {
     "data": {
      "text/latex": [
       "$\\displaystyle \\left[\\begin{matrix}1 & 0 & 0\\\\-0.5 & 1 & 0\\\\0 & 0.666666666666667 & 1\\end{matrix}\\right]$"
      ],
      "text/plain": [
       "Matrix([\n",
       "[   1,                 0, 0],\n",
       "[-0.5,                 1, 0],\n",
       "[   0, 0.666666666666667, 1]])"
      ]
     },
     "execution_count": 5,
     "metadata": {},
     "output_type": "execute_result"
    }
   ],
   "source": [
    "import sympy as sp\n",
    "\n",
    "A = sp.Matrix([[2., -1., 0.], [-1., 2., -1.], [0, 1., -1.]])\n",
    "L, U, _ = A.LUdecomposition()\n",
    "L"
   ]
  },
  {
   "cell_type": "code",
   "execution_count": 6,
   "metadata": {},
   "outputs": [
    {
     "data": {
      "text/latex": [
       "$\\displaystyle \\left[\\begin{matrix}2.0 & -1.0 & 0.0\\\\0 & 1.5 & -1.0\\\\0 & 0 & -0.333333333333333\\end{matrix}\\right]$"
      ],
      "text/plain": [
       "Matrix([\n",
       "[2.0, -1.0,                0.0],\n",
       "[  0,  1.5,               -1.0],\n",
       "[  0,    0, -0.333333333333333]])"
      ]
     },
     "execution_count": 6,
     "metadata": {},
     "output_type": "execute_result"
    }
   ],
   "source": [
    "U"
   ]
  },
  {
   "cell_type": "markdown",
   "metadata": {},
   "source": [
    "## Часть 3. Нахождение обратной матрицы с помощью LU разложения"
   ]
  },
  {
   "cell_type": "markdown",
   "metadata": {},
   "source": [
    "Задание:\n",
    "\n",
    "Предложить алгоритм с использованием LU-разложения и найти обратную матрицу с точностью $\\epsilon = 10^{-3}$:\n",
    "$$\n",
    "A = \\begin{pmatrix} \n",
    "1 & 1  & 1 \\\\\n",
    "0 & 1 & 2 \\\\\n",
    "7 & 1 & 4 \\\\\n",
    "\\end{pmatrix}\n",
    "$$\n",
    "Для необходимых оценок использовать первую норму. Сравнить результат со значением, найденным с помощью функции numpy.linalg.inv."
   ]
  },
  {
   "cell_type": "code",
   "execution_count": 35,
   "metadata": {},
   "outputs": [
    {
     "name": "stdout",
     "output_type": "stream",
     "text": [
      "Обратная матрица с помощью LU разложения:\n",
      " [[ 0.22222222 -0.33333333  0.11111111]\n",
      " [ 1.55555556 -0.33333333 -0.22222222]\n",
      " [-0.77777778  0.66666667  0.11111111]] \n",
      "\n",
      "Обратная матрица с помощью numpy.linalg.inv:\n",
      " [[ 0.22222222 -0.33333333  0.11111111]\n",
      " [ 1.55555556 -0.33333333 -0.22222222]\n",
      " [-0.77777778  0.66666667  0.11111111]]\n"
     ]
    }
   ],
   "source": [
    "import numpy as np\n",
    "import numpy.linalg as la\n",
    "import copy \n",
    "\n",
    "def A_to_LU(a):\n",
    "    n = a.shape[0]\n",
    "    LU_matrix = np.matrix(np.zeros([n, n]))\n",
    "\n",
    "    for k in range(n):\n",
    "\n",
    "        for j in range(k, n):\n",
    "            LU_matrix[k, j] = a[k, j] - LU_matrix[k, :k] * LU_matrix[:k, j]\n",
    "\n",
    "        for i in range(k + 1, n):\n",
    "            LU_matrix[i, k] = (a[i, k] - LU_matrix[i, :k] * LU_matrix[:k, k]) / LU_matrix[k, k]\n",
    "\n",
    "    return LU_matrix\n",
    "\n",
    "def LU_to_L(LU_matrix):\n",
    "    L = LU_matrix.copy()\n",
    "    for i in range(L.shape[0]):\n",
    "            L[i, i] = 1\n",
    "            L[i, i+1:] = 0\n",
    "    return L\n",
    "\n",
    "def LU_to_U(LU_matrix):\n",
    "    U = LU_matrix.copy()\n",
    "    for i in range(1, U.shape[0]):\n",
    "            U[i, :i] = 0\n",
    "    return U\n",
    "\n",
    "def L_solve(L, b):\n",
    "    n = b.size\n",
    "    x = b.copy()\n",
    "    \n",
    "    for k in range(0,n-1):\n",
    "        for i in range(k+1,n):\n",
    "            if L[i,k]!=0:\n",
    "                c = L[i,k]/L[k,k]\n",
    "                x[i] = x[i] - c*x[k]\n",
    "    return x\n",
    "\n",
    "def U_solve(U, b):\n",
    "    n = b.size\n",
    "    for k in range(n-1,-1,-1):\n",
    "        b[k] = (b[k] - np.dot(U[k,k+1:n],b[k+1:n]))/U[k,k]\n",
    "    return b\n",
    "\n",
    "def get_A_inv(A, n):\n",
    "    LU_matrix = A_to_LU(A)\n",
    "    C = A.copy()\n",
    "    L = LU_to_L(LU_matrix)\n",
    "    U = LU_to_U(LU_matrix)\n",
    "    E = np.eye(n)\n",
    "\n",
    "    L_inv, U_inv = np.zeros((n,n)),np.zeros((n,n))\n",
    "    for i in range(n):\n",
    "        L_inv[i] = L_solve(L, E[i])\n",
    "        U_inv[i] = U_solve(U, E[i])\n",
    "    L_inv = L_inv.T\n",
    "    U_inv = U_inv.T\n",
    "    A_inv = np.dot(U_inv, L_inv)\n",
    "\n",
    "    return A_inv\n",
    "\n",
    "\n",
    "if __name__ == \"__main__\":\n",
    "    A = np.array([[1., 1., 1.], [0., 1., 2.], [7, 1., 4.]])\n",
    "\n",
    "    LU_matrix = A_to_LU(A)\n",
    "    L = LU_to_L(LU_matrix)\n",
    "    U = LU_to_U(LU_matrix)\n",
    "\n",
    "    A_inv1 = get_A_inv(A, np.shape(A)[0])\n",
    "    A_inv2 = la.inv(A)\n",
    "\n",
    "    print(\"Обратная матрица с помощью LU разложения:\\n\", A_inv1, \"\\n\")\n",
    "    print(\"Обратная матрица с помощью numpy.linalg.inv:\\n\", A_inv2)\n"
   ]
  },
  {
   "cell_type": "markdown",
   "metadata": {},
   "source": [
    "## Часть 4. Модифицированный метод Гаусса\n",
    "\n",
    "Модифицировать метод Гаусса из Части 1 так, чтобы система $A_1x = b_1$ решалась корректно. ВАЖНО: реализация метода должна быть получена путем модификации метода gauss, а не переписыванием кода с нуля! "
   ]
  },
  {
   "cell_type": "markdown",
   "metadata": {},
   "source": [
    "Реализуем метод Гаусса с выбором главного элемента по столбцу: на $i$-ом шаге в $i$-м столбце выбирается максимальный по модулю элемент и строки переставляются таким образом, чтобы строка с таким элементом оказалась на месте $i$-ой (так легче всего, ведь при перестановске столбцов измененется порядок следования компонент вектора неизвестных и это требует его восстановления по окончании процесса решения)"
   ]
  },
  {
   "cell_type": "code",
   "execution_count": 36,
   "metadata": {},
   "outputs": [
    {
     "name": "stdout",
     "output_type": "stream",
     "text": [
      "mu1 =  16.393731622284385\n",
      "mu2 =  16.393731622284392\n",
      "u1 =  [1. 1. 1.]\n",
      "u2 =  [1. 1. 1.]\n"
     ]
    }
   ],
   "source": [
    "import numpy as np\n",
    "import numpy.linalg as la\n",
    "import copy \n",
    "\n",
    "def get_max_index(A, k, n):\n",
    "    max = 0\n",
    "    max_i = k\n",
    "    for i in range (k, n):\n",
    "        if abs(A[i, k]) >= abs(max):\n",
    "            max = A[i, k]\n",
    "            max_i = i\n",
    "    return max_i\n",
    "\n",
    "\n",
    "def gauss_upgraded( A_in, b_in ):\n",
    "    n = b_in.size\n",
    "    A = copy.deepcopy(A_in)\n",
    "    b = copy.deepcopy(b_in)\n",
    "    for k in range(0,n-1):\n",
    "        k_max = get_max_index(A, k, n)\n",
    "        if k_max != k:\n",
    "            A[[k, k_max]] = A[[k_max, k]]\n",
    "            b[[k, k_max]] = b[[k_max, k]]\n",
    "        for i in range(k+1,n):\n",
    "            if A[i,k]!=0:\n",
    "                c = A[i,k]/A[k,k]\n",
    "                A[i,k+1:n] = A[i,k+1:n] - c*A[k,k+1:n]\n",
    "                b[i] = b[i] - c*b[k]\n",
    "                \n",
    "    # обратный ход\n",
    "    for k in range(n-1,-1,-1):\n",
    "        b[k] = (b[k] - np.dot(A[k,k+1:n],b[k+1:n]))/A[k,k]\n",
    "    return b\n",
    "\n",
    "if __name__ == \"__main__\":\n",
    "    A1 = np.array([[1e-16, 1., -1.], [-1., 2., -1.], [2., -1., 0.]])\n",
    "    b1 = np.array([0., 0., 1.])\n",
    "\n",
    "    A2 = np.array([[2., -1., 0.], [-1., 2., -1.], [1e-16, 1., -1.]])\n",
    "    b2 = np.array([1., 0., 0.])\n",
    "\n",
    "    print('mu1 = ', la.cond(A1))\n",
    "    print('mu2 = ', la.cond(A2))\n",
    "\n",
    "    print('u1 = ', gauss_upgraded(A1, b1))\n",
    "    print('u2 = ', gauss_upgraded(A2, b2))\n"
   ]
  }
 ],
 "metadata": {
  "anaconda-cloud": {},
  "kernelspec": {
   "display_name": "Python 3 (ipykernel)",
   "language": "python",
   "name": "python3"
  },
  "language_info": {
   "codemirror_mode": {
    "name": "ipython",
    "version": 3
   },
   "file_extension": ".py",
   "mimetype": "text/x-python",
   "name": "python",
   "nbconvert_exporter": "python",
   "pygments_lexer": "ipython3",
   "version": "3.11.4"
  }
 },
 "nbformat": 4,
 "nbformat_minor": 2
}
